{
 "cells": [
  {
   "cell_type": "markdown",
   "metadata": {},
   "source": [
    "# Yahoo Finance Web Scrapper\n",
    "\n",
    "## Dataset\n",
    "This dataset was downloaded from Kaggle. This version of the dataset was downloaded in early 2017, and contains serveral images that will cause erros when using the cv2.imread function.\n",
    "\n",
    "## Approach/Process\n",
    "1. Import Libraries\n",
    "2. Import data\n",
    "3. Data prepartion\n",
    "4. Training/Validation Split\n",
    "5. Build/Fit the Model\n",
    "6. Testing/Results\n",
    "\n",
    "## Results\n",
    "When tested on a picture of my own dog the model performed well, however, when tested on a personal picture of cats the model did not correctly classify the image."
   ]
  },
  {
   "cell_type": "code",
   "execution_count": 1,
   "metadata": {},
   "outputs": [],
   "source": [
    "import re\n",
    "import json\n",
    "import csv\n",
    "from io import StringIO\n",
    "from bs4 import BeautifulSoup\n",
    "import requests\n",
    "import pandas as pd"
   ]
  },
  {
   "cell_type": "code",
   "execution_count": 2,
   "metadata": {},
   "outputs": [],
   "source": [
    "url_stats = 'https://finance.yahoo.com/quote/{}/key-statistics?p={}'\n",
    "url_profile = 'https://finance.yahoo.com/quote/{}/profile?p={}'\n",
    "url_financials = 'https://finance.yahoo.com/quote/{}/financials?p={}'"
   ]
  },
  {
   "cell_type": "code",
   "execution_count": 3,
   "metadata": {},
   "outputs": [],
   "source": [
    "stock = ['XOM','CVX','RDS-B','TOT','BP','COP','EOG','PXD','BKR','OXY']\n",
    "df = []"
   ]
  },
  {
   "cell_type": "code",
   "execution_count": 4,
   "metadata": {},
   "outputs": [],
   "source": [
    "for x in range(len(stock)):\n",
    "    response = requests.get(url_profile.format(stock[x], stock[x]))\n",
    "    soup = BeautifulSoup(response.text, 'html.parser')\n",
    "    pattern = re.compile(r'\\s--\\sData\\s--\\s')\n",
    "    script_data = soup.find('script', text = pattern).contents[0]\n",
    "    start = script_data.find('context')-2\n",
    "    json_data = json.loads(script_data[start:-12])\n",
    "    a = json_data['context']['dispatcher']['stores']['QuoteSummaryStore']['summaryDetail']['marketCap']['longFmt']\n",
    "    a = a.replace(',','')\n",
    "    df.append(int(a))"
   ]
  },
  {
   "cell_type": "code",
   "execution_count": 5,
   "metadata": {},
   "outputs": [
    {
     "data": {
      "text/plain": [
       "str"
      ]
     },
     "execution_count": 5,
     "metadata": {},
     "output_type": "execute_result"
    }
   ],
   "source": [
    "# # Market Cap, full number, string fmt\n",
    "\n",
    "type(json_data['context']['dispatcher']['stores']['QuoteSummaryStore']['summaryDetail']['marketCap']['longFmt'])"
   ]
  },
  {
   "cell_type": "code",
   "execution_count": 6,
   "metadata": {},
   "outputs": [
    {
     "data": {
      "text/plain": [
       "[236357435392,\n",
       " 202029875200,\n",
       " 148223082496,\n",
       " 123090386944,\n",
       " 82696740864,\n",
       " 71623385088,\n",
       " 42331914240,\n",
       " 34397237248,\n",
       " 22494713856,\n",
       " 24848732160]"
      ]
     },
     "execution_count": 6,
     "metadata": {},
     "output_type": "execute_result"
    }
   ],
   "source": [
    "df"
   ]
  },
  {
   "cell_type": "code",
   "execution_count": 12,
   "metadata": {},
   "outputs": [],
   "source": [
    "import numpy as np\n",
    "import matplotlib.pyplot as plt\n",
    "import seaborn as sns\n",
    "import datetime as dt"
   ]
  },
  {
   "cell_type": "code",
   "execution_count": 15,
   "metadata": {},
   "outputs": [
    {
     "data": {
      "image/png": "[encoded data removed]",
      "text/plain": [
       "<Figure size 432x288 with 1 Axes>"
      ]
     },
     "metadata": {
      "needs_background": "light"
     },
     "output_type": "display_data"
    }
   ],
   "source": [
    "ax = sns.barplot(x=stock,y=df, palette='Blues_d')\n",
    "ax.set_title('Oil and Gas Market Cap ' + str(dt.date.today()))\n",
    "ax.set_ylabel('Hundreds of Billions')\n",
    "ax.set_xlabel('Company Stock Tickers')\n",
    "plt.savefig(str(dt.date.today()) + '.png')"
   ]
  },
  {
   "cell_type": "code",
   "execution_count": null,
   "metadata": {},
   "outputs": [],
   "source": []
  }
 ],
 "metadata": {
  "kernelspec": {
   "display_name": "Python 3",
   "language": "python",
   "name": "python3"
  },
  "language_info": {
   "codemirror_mode": {
    "name": "ipython",
    "version": 3
   },
   "file_extension": ".py",
   "mimetype": "text/x-python",
   "name": "python",
   "nbconvert_exporter": "python",
   "pygments_lexer": "ipython3",
   "version": "3.8.5"
  }
 },
 "nbformat": 4,
 "nbformat_minor": 4
}
