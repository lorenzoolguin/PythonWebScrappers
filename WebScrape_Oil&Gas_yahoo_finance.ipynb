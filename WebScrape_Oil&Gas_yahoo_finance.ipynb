{
 "cells": [
  {
   "cell_type": "markdown",
   "metadata": {},
   "source": [
    "# Yahoo Finance Web Scrapper\n",
    "## Introduction\n",
    "This is a yahoo finance web scrapper with oil and gas analysis. I have noticed some inconsistencies with the scrapped data and the data displayed by Yahoo Finance, however, when comparing the scrapped data with the company's 10k the data does align. Since free cash flow is not GAAP measurement the values should be taken with care. I personally like looking at free cash flow when examining a company's finances. Thanks to Izzy Analytics for the web scrapping tutorial.\n",
    "\n",
    "## Dataset\n",
    "The data was obtained via web scrapping.\n",
    "\n",
    "## Approach/Process\n",
    "1. Import Libraries\n",
    "2. Scrape the data from Yahoo Finance\n",
    "3. Data prepartion\n",
    "4. Data Visualization\n",
    "5. Results\n",
    "6. Review and Reassess\n",
    "\n",
    "## Results\n",
    "The Oil and Gas companies were chosen based on their large market cap. I wanted to have a visualization tool to better understand how these companies are rebounding financially from the Covid-19 market crash. With a bit more work the quarterly information can be scrapped too. \n"
   ]
  },
  {
   "cell_type": "code",
   "execution_count": 18,
   "metadata": {},
   "outputs": [],
   "source": [
    "#Import required libraries\n",
    "\n",
    "import re\n",
    "import json\n",
    "import csv\n",
    "from io import StringIO\n",
    "from bs4 import BeautifulSoup\n",
    "import requests\n",
    "import pandas as pd"
   ]
  },
  {
   "cell_type": "code",
   "execution_count": 19,
   "metadata": {},
   "outputs": [],
   "source": [
    "# Scraping the data from yahoo finance.\n",
    "\n",
    "url_stats = 'https://finance.yahoo.com/quote/{}/key-statistics?p={}'\n",
    "url_profile = 'https://finance.yahoo.com/quote/{}/profile?p={}'\n",
    "url_financials = 'https://finance.yahoo.com/quote/{}/financials?p={}'"
   ]
  },
  {
   "cell_type": "code",
   "execution_count": 20,
   "metadata": {},
   "outputs": [],
   "source": [
    "stock = ['XOM','CVX','RDS-A','TOT','BP','COP','EOG','PXD','BKR','OXY']\n",
    "df = []"
   ]
  },
  {
   "cell_type": "code",
   "execution_count": 21,
   "metadata": {},
   "outputs": [],
   "source": [
    "for x in range(len(stock)):\n",
    "    response = requests.get(url_profile.format(stock[x], stock[x]))\n",
    "    soup = BeautifulSoup(response.text, 'html.parser')\n",
    "    pattern = re.compile(r'\\s--\\sData\\s--\\s')\n",
    "    script_data = soup.find('script', text = pattern).contents[0]\n",
    "    start = script_data.find('context')-2\n",
    "    json_data = json.loads(script_data[start:-12])\n",
    "    a = json_data['context']['dispatcher']['stores']['QuoteSummaryStore']['summaryDetail']['marketCap']['longFmt']\n",
    "    # Preparing the data\n",
    "    a = a.replace(',','')\n",
    "    df.append(int(a))"
   ]
  },
  {
   "cell_type": "code",
   "execution_count": 22,
   "metadata": {},
   "outputs": [
    {
     "data": {
      "text/plain": [
       "str"
      ]
     },
     "execution_count": 22,
     "metadata": {},
     "output_type": "execute_result"
    }
   ],
   "source": [
    "# # Market Cap, full number, string fmt\n",
    "\n",
    "type(json_data['context']['dispatcher']['stores']['QuoteSummaryStore']['summaryDetail']['marketCap']['longFmt'])"
   ]
  },
  {
   "cell_type": "code",
   "execution_count": 23,
   "metadata": {},
   "outputs": [
    {
     "data": {
      "text/plain": [
       "[241607000064,\n",
       " 199515652096,\n",
       " 150663659520,\n",
       " 120695865344,\n",
       " 85681987584,\n",
       " 70487580672,\n",
       " 43131510784,\n",
       " 32854753280,\n",
       " 20896872448,\n",
       " 23341191168]"
      ]
     },
     "execution_count": 23,
     "metadata": {},
     "output_type": "execute_result"
    }
   ],
   "source": [
    "df"
   ]
  },
  {
   "cell_type": "code",
   "execution_count": 24,
   "metadata": {},
   "outputs": [],
   "source": [
    "import numpy as np\n",
    "import matplotlib.pyplot as plt\n",
    "import seaborn as sns\n",
    "import datetime as dt"
   ]
  },
  {
   "cell_type": "code",
   "execution_count": 25,
   "metadata": {},
   "outputs": [
    {
     "data": {
      "image/png": "[encoded data removed]",
      "text/plain": [
       "<Figure size 432x288 with 1 Axes>"
      ]
     },
     "metadata": {
      "needs_background": "light"
     },
     "output_type": "display_data"
    }
   ],
   "source": [
    "#Data Visualization\n",
    "#Plot will update and save every time this section of code is run\n",
    "\n",
    "ax = sns.barplot(x=stock,y=df, palette='mako')\n",
    "ax.set_title('Oil and Gas Market Cap ' + str(dt.date.today()))\n",
    "ax.set_ylabel('Hundreds of Billions')\n",
    "ax.set_xlabel('Company Stock Tickers')\n",
    "plt.savefig(str(dt.date.today()) + '.png')"
   ]
  },
  {
   "cell_type": "code",
   "execution_count": 28,
   "metadata": {},
   "outputs": [],
   "source": [
    "# More web scrapping and data formating\n",
    "\n",
    "stock = ['XOM','CVX','RDS-A','TOT','BP','COP','EOG','PXD','BKR','OXY']\n",
    "df1 = []\n",
    "\n",
    "for x in range(len(stock)):\n",
    "    response = requests.get(url_financials.format(stock[x], stock[x]))\n",
    "    soup = BeautifulSoup(response.text, 'html.parser')\n",
    "    pattern = re.compile(r'\\s--\\sData\\s--\\s')\n",
    "    script_data = soup.find('script', text = pattern).contents[0]\n",
    "    start = script_data.find('context')-2\n",
    "    json_data = json.loads(script_data[start:-12])\n",
    "    b = json_data['context']['dispatcher']['stores']['QuoteSummaryStore']['cashflowStatementHistory']['cashflowStatements'][0:1][0]['totalCashFromOperatingActivities']['raw']\n",
    "    df1.append(int(b))"
   ]
  },
  {
   "cell_type": "code",
   "execution_count": 29,
   "metadata": {},
   "outputs": [
    {
     "data": {
      "text/plain": [
       "[14668000000,\n",
       " 10577000000,\n",
       " 34105000000,\n",
       " 14803000000,\n",
       " 12162000000,\n",
       " 4802000000,\n",
       " 5007783000,\n",
       " 2083000000,\n",
       " 1304000000,\n",
       " 3955000000]"
      ]
     },
     "execution_count": 29,
     "metadata": {},
     "output_type": "execute_result"
    }
   ],
   "source": [
    "df1"
   ]
  },
  {
   "cell_type": "code",
   "execution_count": 30,
   "metadata": {},
   "outputs": [],
   "source": [
    "stock = ['XOM','CVX','RDS-A','TOT','BP','COP','EOG','PXD','BKR','OXY']\n",
    "#stock = ['OXY']\n",
    "df2 = []\n",
    "\n",
    "for x in range(len(stock)):\n",
    "    response = requests.get(url_financials.format(stock[x], stock[x]))\n",
    "    soup = BeautifulSoup(response.text, 'html.parser')\n",
    "    pattern = re.compile(r'\\s--\\sData\\s--\\s')\n",
    "    script_data = soup.find('script', text = pattern).contents[0]\n",
    "    start = script_data.find('context')-2\n",
    "    json_data = json.loads(script_data[start:-12])\n",
    "    b = json_data['context']['dispatcher']['stores']['QuoteSummaryStore']['cashflowStatementHistory']['cashflowStatements'][0:1][0]['capitalExpenditures']['raw']\n",
    "    df2.append(int(b))"
   ]
  },
  {
   "cell_type": "code",
   "execution_count": 31,
   "metadata": {},
   "outputs": [
    {
     "data": {
      "text/plain": [
       "[-17282000000,\n",
       " -8922000000,\n",
       " -16585000000,\n",
       " -10764000000,\n",
       " -12306000000,\n",
       " -4715000000,\n",
       " -3464700000,\n",
       " -1602000000,\n",
       " -974000000,\n",
       " -2535000000]"
      ]
     },
     "execution_count": 31,
     "metadata": {},
     "output_type": "execute_result"
    }
   ],
   "source": [
    "df2"
   ]
  },
  {
   "cell_type": "code",
   "execution_count": 32,
   "metadata": {},
   "outputs": [],
   "source": [
    "stock = ['XOM','CVX','RDS-A','TOT','BP','COP','EOG','PXD','BKR','OXY']\n",
    "#stock = ['OXY']\n",
    "df3 = []\n",
    "\n",
    "for x in range(len(stock)):\n",
    "    response = requests.get(url_financials.format(stock[x], stock[x]))\n",
    "    soup = BeautifulSoup(response.text, 'html.parser')\n",
    "    pattern = re.compile(r'\\s--\\sData\\s--\\s')\n",
    "    script_data = soup.find('script', text = pattern).contents[0]\n",
    "    start = script_data.find('context')-2\n",
    "    json_data = json.loads(script_data[start:-12])\n",
    "    b = json_data['context']['dispatcher']['stores']['QuoteSummaryStore']['cashflowStatementHistory']['cashflowStatements'][0:1][0]['netIncome']['raw']\n",
    "    df3.append(int(b))"
   ]
  },
  {
   "cell_type": "code",
   "execution_count": 33,
   "metadata": {},
   "outputs": [
    {
     "data": {
      "text/plain": [
       "[-22440000000,\n",
       " -5543000000,\n",
       " -21680000000,\n",
       " -7242000000,\n",
       " -20305000000,\n",
       " -2701000000,\n",
       " -604572000,\n",
       " -200000000,\n",
       " -9940000000,\n",
       " -14831000000]"
      ]
     },
     "execution_count": 33,
     "metadata": {},
     "output_type": "execute_result"
    }
   ],
   "source": [
    "df3"
   ]
  },
  {
   "cell_type": "code",
   "execution_count": 34,
   "metadata": {
    "scrolled": true
   },
   "outputs": [
    {
     "data": {
      "text/plain": [
       "[-2614000000,\n",
       " 1655000000,\n",
       " 17520000000,\n",
       " 4039000000,\n",
       " -144000000,\n",
       " 87000000,\n",
       " 1543083000,\n",
       " 481000000,\n",
       " 330000000,\n",
       " 1420000000]"
      ]
     },
     "execution_count": 34,
     "metadata": {},
     "output_type": "execute_result"
    }
   ],
   "source": [
    "# List Comprehension, (Net Cash from Operating Activities - Capital Expenditures) \n",
    "free_cash_flow = [x + y for x, y in zip(df1, df2)] # x + y because capital expenditure values are already negative\n",
    "free_cash_flow"
   ]
  },
  {
   "cell_type": "code",
   "execution_count": 35,
   "metadata": {},
   "outputs": [
    {
     "data": {
      "text/html": [
       "<div>\n",
       "<style scoped>\n",
       "    .dataframe tbody tr th:only-of-type {\n",
       "        vertical-align: middle;\n",
       "    }\n",
       "\n",
       "    .dataframe tbody tr th {\n",
       "        vertical-align: top;\n",
       "    }\n",
       "\n",
       "    .dataframe thead th {\n",
       "        text-align: right;\n",
       "    }\n",
       "</style>\n",
       "<table border=\"1\" class=\"dataframe\">\n",
       "  <thead>\n",
       "    <tr style=\"text-align: right;\">\n",
       "      <th></th>\n",
       "      <th>Company Ticker</th>\n",
       "      <th>Net Income</th>\n",
       "      <th>Free Cash Flow</th>\n",
       "    </tr>\n",
       "  </thead>\n",
       "  <tbody>\n",
       "    <tr>\n",
       "      <th>0</th>\n",
       "      <td>XOM</td>\n",
       "      <td>-22440000000</td>\n",
       "      <td>-2614000000</td>\n",
       "    </tr>\n",
       "    <tr>\n",
       "      <th>1</th>\n",
       "      <td>CVX</td>\n",
       "      <td>-5543000000</td>\n",
       "      <td>1655000000</td>\n",
       "    </tr>\n",
       "    <tr>\n",
       "      <th>2</th>\n",
       "      <td>RDS-A</td>\n",
       "      <td>-21680000000</td>\n",
       "      <td>17520000000</td>\n",
       "    </tr>\n",
       "    <tr>\n",
       "      <th>3</th>\n",
       "      <td>TOT</td>\n",
       "      <td>-7242000000</td>\n",
       "      <td>4039000000</td>\n",
       "    </tr>\n",
       "    <tr>\n",
       "      <th>4</th>\n",
       "      <td>BP</td>\n",
       "      <td>-20305000000</td>\n",
       "      <td>-144000000</td>\n",
       "    </tr>\n",
       "    <tr>\n",
       "      <th>5</th>\n",
       "      <td>COP</td>\n",
       "      <td>-2701000000</td>\n",
       "      <td>87000000</td>\n",
       "    </tr>\n",
       "    <tr>\n",
       "      <th>6</th>\n",
       "      <td>EOG</td>\n",
       "      <td>-604572000</td>\n",
       "      <td>1543083000</td>\n",
       "    </tr>\n",
       "    <tr>\n",
       "      <th>7</th>\n",
       "      <td>PXD</td>\n",
       "      <td>-200000000</td>\n",
       "      <td>481000000</td>\n",
       "    </tr>\n",
       "    <tr>\n",
       "      <th>8</th>\n",
       "      <td>BKR</td>\n",
       "      <td>-9940000000</td>\n",
       "      <td>330000000</td>\n",
       "    </tr>\n",
       "    <tr>\n",
       "      <th>9</th>\n",
       "      <td>OXY</td>\n",
       "      <td>-14831000000</td>\n",
       "      <td>1420000000</td>\n",
       "    </tr>\n",
       "  </tbody>\n",
       "</table>\n",
       "</div>"
      ],
      "text/plain": [
       "  Company Ticker   Net Income  Free Cash Flow\n",
       "0            XOM -22440000000     -2614000000\n",
       "1            CVX  -5543000000      1655000000\n",
       "2          RDS-A -21680000000     17520000000\n",
       "3            TOT  -7242000000      4039000000\n",
       "4             BP -20305000000      -144000000\n",
       "5            COP  -2701000000        87000000\n",
       "6            EOG   -604572000      1543083000\n",
       "7            PXD   -200000000       481000000\n",
       "8            BKR  -9940000000       330000000\n",
       "9            OXY -14831000000      1420000000"
      ]
     },
     "execution_count": 35,
     "metadata": {},
     "output_type": "execute_result"
    }
   ],
   "source": [
    "# Results Table\n",
    "# Pandas Datframe\n",
    "\n",
    "df_final = pd.DataFrame()\n",
    "df_final['Company Ticker'] = stock\n",
    "df_final['Net Income'] = df3\n",
    "df_final['Free Cash Flow'] = free_cash_flow\n",
    "df_final"
   ]
  },
  {
   "cell_type": "code",
   "execution_count": 36,
   "metadata": {},
   "outputs": [
    {
     "data": {
      "image/png": "[encoded data removed]",
      "text/plain": [
       "<Figure size 432x288 with 1 Axes>"
      ]
     },
     "metadata": {
      "needs_background": "light"
     },
     "output_type": "display_data"
    }
   ],
   "source": [
    "# Bar Chart comparing free cash flow and net income. Based on standard Matplotlib code for comparison bar charts.\n",
    "\n",
    "x = np.arange(len(stock))  # the label locations\n",
    "width = 0.35  # the width of the bars\n",
    "\n",
    "fig, ax = plt.subplots()\n",
    "net_inc = ax.bar(x - width/2, df_final['Net Income'], width, label='Net Income', color='blue')\n",
    "fcf = ax.bar(x + width/2, df_final['Free Cash Flow'], width, label='Free Cash Flow', color='red')\n",
    "\n",
    "ax.set_ylabel('Billion Dollars')\n",
    "ax.set_title('Free Cash Flow and Net Income Comparision \\n Oil and Gas 2020')\n",
    "ax.set_xticks(x)\n",
    "ax.set_xticklabels(stock)\n",
    "ax.grid()\n",
    "ax.legend()\n",
    "\n",
    "fig.tight_layout()\n",
    "plt.show()"
   ]
  },
  {
   "cell_type": "code",
   "execution_count": null,
   "metadata": {},
   "outputs": [],
   "source": []
  }
 ],
 "metadata": {
  "kernelspec": {
   "display_name": "Python 3",
   "language": "python",
   "name": "python3"
  },
  "language_info": {
   "codemirror_mode": {
    "name": "ipython",
    "version": 3
   },
   "file_extension": ".py",
   "mimetype": "text/x-python",
   "name": "python",
   "nbconvert_exporter": "python",
   "pygments_lexer": "ipython3",
   "version": "3.7.6"
  }
 },
 "nbformat": 4,
 "nbformat_minor": 4
}
